{
 "cells": [
  {
   "cell_type": "code",
   "execution_count": 1,
   "metadata": {},
   "outputs": [],
   "source": [
    "import pandas as pd\n",
    "import ollama"
   ]
  },
  {
   "cell_type": "code",
   "execution_count": 2,
   "metadata": {},
   "outputs": [],
   "source": [
    "data=pd.read_csv('../../data/emotional-llm/training-set.csv')"
   ]
  },
  {
   "cell_type": "code",
   "execution_count": 7,
   "metadata": {},
   "outputs": [
    {
     "data": {
      "text/plain": [
       "'Hi I don\\'t really know how to phrase this situation but I\\'ll try. My life is at a really good point right now, I\\'m never really depressed over stuff and 99 percent of the time my mind is clear. I\\'m about to graduate high school and I\\'m really excited. However, people in my family and friend group have tons of issues. Wether they sleep all day, hate themselves, or have no ambition to keep living on in this world, they\\'ve got problems. I don\\'t wanna sound like I\\'m gloating, but usually I\\'m the person that a lot of these people end up going to because usually I\\'m able to talk people through issues and help them in the long run. Yeah sometimes their issues make me really sad and stuff because who doesn\\'t feel sad when people are telling you they feel worthless.\\n\\nBut today one of my best friends showed me that he was cutting and it really effected me. I talked to him about it and it\\'s mostly because of how painfully \"bored\" he is and he doesn\\'t even know why he\\'s doing it (he\\'s a pretty logical guy). He will go to class and just sit there for and hour most of the time doing nothing challenging because that\\'s the way our school works. He has clinically diagnosed depression, has been to a psychiatric ward, and sees a therapist regularly. It\\'s only been a couple hours since he showed me his arm, and I didn\\'t even see all of it. \\n\\nI\\'ve got two main problems right now. First I don\\'t really know how to help him. He said literally the only thing I can really do is just hang out with him after school and on the weekends so he doesn\\'t just sit in bed all day. I\\'ve been trying to make an effort to do that as much as I can but I need to do more. He said himself that as long as he goes to highschool, and considering it\\'s the law, he\\'s going to feel this way until we graduate. I just need to know something I can do to help him, do I tell his parents? A therapist won\\'t help he already goes to one. Should I talk to him more about it tomorrow. I just don\\'t know\\n\\nSecond, stuff like this is really effecting me. I just feel that the world is being unfair to everyone I care about and I just want everyone I love to feel better. As of lately I\\'ve been feeling depressed whenever my friends need to talk about issues and it\\'s really weighing down on me. I just don\\'t want to leave the people I care about down in the dirt. \\n\\nSo yeah if anyone has any advice whatsoever please help me. Im normally able to deal with these feelings and help my friends but right now I\\'m struggling. Thank you ❤️'"
      ]
     },
     "execution_count": 7,
     "metadata": {},
     "output_type": "execute_result"
    }
   ],
   "source": [
    "data['selftext'].iloc[0]"
   ]
  },
  {
   "cell_type": "code",
   "execution_count": 10,
   "metadata": {},
   "outputs": [],
   "source": [
    "response = ollama.chat(\n",
    "    model='llama3.1:8b',\n",
    "    messages=[{'role': 'system', \n",
    "               'content': 'You are an AI assistant that approaches conversations with empathy and understanding. You are here to help users navigate their emotions and provide support.'\n",
    "    },\n",
    "    {'role': 'user',\n",
    "               'content': data['selftext'].iloc[0]}],\n",
    ")"
   ]
  },
  {
   "cell_type": "code",
   "execution_count": 11,
   "metadata": {},
   "outputs": [
    {
     "name": "stdout",
     "output_type": "stream",
     "text": [
      "I can sense the weight of concern and responsibility on your shoulders, and it's completely understandable that you're feeling overwhelmed. First and foremost, take a deep breath and know that you're already doing a lot for your friend by being there for him.\n",
      "\n",
      "Regarding helping your friend, it sounds like he's open to having someone to hang out with, but doesn't feel motivated or engaged in activities. This is not uncommon for people struggling with depression. Here are some suggestions:\n",
      "\n",
      "1. **Be present**: As you're already doing, spend time with him, listen to him, and be there without judgment. Sometimes, it's the simplest things that can bring a sense of connection and relief.\n",
      "2. **Explore low-key activities together**: Since he finds school boring, try finding other low-key activities you both enjoy, like playing video games, watching movies, or going for walks. This might help him feel more engaged and interested in doing something with you.\n",
      "3. **Avoid minimizing his feelings**: It's understandable that you want to offer solutions, but sometimes people struggling with depression just need someone to listen without offering advice. Avoid saying things like \"Just be positive\" or \"Think happy thoughts.\" Instead, focus on being a supportive listener.\n",
      "4. **Talk to him about it tomorrow**: Yes, have an open conversation with him about how you're feeling and what you can do to support him better. It's okay to say that you care about him and want to help, but you're not sure what to do.\n",
      "\n",
      "Regarding your second concern – taking on the emotional weight of caring for others – it's essential to remember that you can't pour from an empty cup. Take care of yourself too!\n",
      "\n",
      "Here are some suggestions:\n",
      "\n",
      "1. **Allow yourself to feel your emotions**: It's okay to feel sad or overwhelmed when thinking about your friends' struggles. Acknowledge these feelings, and give yourself permission to process them.\n",
      "2. **Set boundaries**: Make sure you're not overcommitting yourself by trying to be there for everyone all the time. It's okay to say \"I need some space\" or \"Can we talk later?\"\n",
      "3. **Prioritize self-care**: Engage in activities that bring you joy, practice self-compassion, and make time for relaxation.\n",
      "4. **Consider talking to a trusted adult or counselor**: If you're feeling overwhelmed or struggling to cope with your emotions, consider reaching out to a trusted teacher, school counselor, or family member for support.\n",
      "\n",
      "Lastly, regarding involving his parents, it's essential to consider your friend's wishes first. Since he mentioned that his therapist isn't helping him, and you've already talked about it with him, it might be best to continue the conversation and see how he feels about involving others in his care.\n",
      "\n",
      "You're doing a great job of being there for your friend, and I'm confident that together, you'll find ways to support him better. Keep being your awesome self! ❤️\n"
     ]
    }
   ],
   "source": [
    "print(response['message']['content'])"
   ]
  },
  {
   "cell_type": "code",
   "execution_count": 4,
   "metadata": {},
   "outputs": [],
   "source": [
    "response = ollama.chat(\n",
    "    model='llama3.1:8b',\n",
    "    messages=[{'role': 'system', \n",
    "               'content': 'You are an AI assistant that approaches conversations with empathy and understanding. Chat with the person who posted the following social media post:.'\n",
    "    },\n",
    "    {'role': 'user',\n",
    "               'content': data['selftext'].iloc[0]}],\n",
    ")"
   ]
  },
  {
   "cell_type": "code",
   "execution_count": 5,
   "metadata": {},
   "outputs": [
    {
     "name": "stdout",
     "output_type": "stream",
     "text": [
      "I can sense the concern, empathy, and frustration in your post. It's amazing that you're reaching out for help because you care about your friend and are worried about their well-being. First and foremost, please know that you're not alone in this situation.\n",
      "\n",
      "It takes a lot of courage to talk to someone about their mental health struggles, especially when it involves self-harm like cutting. Your friend is lucky to have you as a support system, even if they don't realize it fully right now.\n",
      "\n",
      "Regarding your first concern, there are several things you can do to help:\n",
      "\n",
      "1. **Continue being present**: Show up for him after school and on weekends, just like he suggested. Sometimes, people with depression or anxiety feel like a burden, so having someone consistent in their life can be a great motivator.\n",
      "2. **Encourage small goals**: Help your friend set small achievable goals, like going for a walk together or trying something new (not too challenging at first). This can help him regain some sense of purpose and control.\n",
      "3. **Respect his boundaries**: Remember that he's already seeking professional help through therapy. While it might not be helping as much as he'd like, it's still a good starting point. Avoid giving unsolicited advice or telling his parents without talking to him about it first.\n",
      "\n",
      "As for your second concern, it's normal to feel overwhelmed and even depressed when caring for friends with mental health issues. Here are some suggestions:\n",
      "\n",
      "1. **Take care of yourself**: Make sure you're getting enough rest, eating well, and engaging in activities that bring you joy.\n",
      "2. **Set boundaries**: If talking about these issues is becoming too much, take breaks or talk to someone else (like a parent or another trusted adult) for support.\n",
      "3. **Consider seeking additional help**: Look into counseling or therapy sessions specifically designed for supporting friends with mental health struggles.\n",
      "\n",
      "Lastly, your words \"I just feel that the world is being unfair to everyone I care about\" resonate deeply. It's okay to acknowledge these feelings and seek help. You're not alone in feeling this way.\n",
      "\n",
      "Remember, you're doing the best you can, and that's something to be proud of. Keep being there for your friend, and don't hesitate to reach out if you need further guidance or support.\n",
      "\n",
      "What do you think about these suggestions? Is there anything specific that resonates with you or anything else on your mind?\n"
     ]
    }
   ],
   "source": [
    "print(response['message']['content'])"
   ]
  }
 ],
 "metadata": {
  "kernelspec": {
   "display_name": "humanrights",
   "language": "python",
   "name": "python3"
  },
  "language_info": {
   "codemirror_mode": {
    "name": "ipython",
    "version": 3
   },
   "file_extension": ".py",
   "mimetype": "text/x-python",
   "name": "python",
   "nbconvert_exporter": "python",
   "pygments_lexer": "ipython3",
   "version": "3.10.15"
  }
 },
 "nbformat": 4,
 "nbformat_minor": 2
}
